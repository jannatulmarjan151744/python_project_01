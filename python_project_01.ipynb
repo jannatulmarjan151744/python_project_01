{
  "nbformat": 4,
  "nbformat_minor": 0,
  "metadata": {
    "colab": {
      "name": "python_project-01.ipynb",
      "provenance": [],
      "include_colab_link": true
    },
    "kernelspec": {
      "name": "python3",
      "display_name": "Python 3"
    }
  },
  "cells": [
    {
      "cell_type": "markdown",
      "metadata": {
        "id": "view-in-github",
        "colab_type": "text"
      },
      "source": [
        "<a href=\"https://colab.research.google.com/github/jannatulmarjan151744/python_project_01/blob/main/python_project_01.ipynb\" target=\"_parent\"><img src=\"https://colab.research.google.com/assets/colab-badge.svg\" alt=\"Open In Colab\"/></a>"
      ]
    },
    {
      "cell_type": "code",
      "metadata": {
        "id": "yj7Pzqhmam8h",
        "colab": {
          "base_uri": "https://localhost:8080/"
        },
        "outputId": "37d70a6c-b4ec-481f-94fc-1c5d8de2da3d"
      },
      "source": [
        "data = []\r\n",
        "choice = 'random'\r\n",
        "\r\n",
        "def line():\r\n",
        "  print('-------------------')\r\n",
        "def show_menu():\r\n",
        "  line()\r\n",
        "  print(\"10th Semester\")\r\n",
        "  line()\r\n",
        "  print('1. Add Course')\r\n",
        "  print('2. Remove Course')\r\n",
        "  print('3. View Course list')\r\n",
        "  print('4. Exit')\r\n",
        "  line()\r\n",
        "  choice = input('Enter your choice: ')\r\n",
        "  return choice\r\n",
        "\r\n",
        "while choice != '4':\r\n",
        "  choice = show_menu()\r\n",
        "  if choice == '1':\r\n",
        "    item = input('add course name: ')\r\n",
        "    data.append(item)\r\n",
        "    print(item,' course is added')\r\n",
        "  elif choice == '2':\r\n",
        "    item = input('Remove course name')\r\n",
        "    if item in data:\r\n",
        "      data.remove(item)\r\n",
        "      print(item,' course is removed')\r\n",
        "  elif choice == '3':\r\n",
        "    for item in data:\r\n",
        "      print(item)\r\n",
        "  elif choice == '4':\r\n",
        "    print(\"bye-bye\")\r\n",
        "  else:\r\n",
        "    print(\"Please enter one of 1,2,3 or 4\")"
      ],
      "execution_count": 8,
      "outputs": [
        {
          "output_type": "stream",
          "text": [
            "-------------------\n",
            "10th Semester\n",
            "-------------------\n",
            "1. Add Course\n",
            "2. Remove Course\n",
            "3. View Course list\n",
            "4. Exit\n",
            "-------------------\n",
            "Enter your choice: 1\n",
            "add course name: Artificial Intelligence\n",
            "Artificial Intelligence  course is added\n",
            "-------------------\n",
            "10th Semester\n",
            "-------------------\n",
            "1. Add Course\n",
            "2. Remove Course\n",
            "3. View Course list\n",
            "4. Exit\n",
            "-------------------\n",
            "Enter your choice: 1\n",
            "add course name: Artificial Intelligence Lab\n",
            "Artificial Intelligence Lab  course is added\n",
            "-------------------\n",
            "10th Semester\n",
            "-------------------\n",
            "1. Add Course\n",
            "2. Remove Course\n",
            "3. View Course list\n",
            "4. Exit\n",
            "-------------------\n",
            "Enter your choice: 1\n",
            "add course name: Web Engineering\n",
            "Web Engineering  course is added\n",
            "-------------------\n",
            "10th Semester\n",
            "-------------------\n",
            "1. Add Course\n",
            "2. Remove Course\n",
            "3. View Course list\n",
            "4. Exit\n",
            "-------------------\n",
            "Enter your choice: 3\n",
            "Artificial Intelligence\n",
            "Artificial Intelligence Lab\n",
            "Web Engineering\n",
            "-------------------\n",
            "10th Semester\n",
            "-------------------\n",
            "1. Add Course\n",
            "2. Remove Course\n",
            "3. View Course list\n",
            "4. Exit\n",
            "-------------------\n",
            "Enter your choice: 2\n",
            "Remove course nameArtificial Intelligence Lab\n",
            "Artificial Intelligence Lab  course is removed\n",
            "-------------------\n",
            "10th Semester\n",
            "-------------------\n",
            "1. Add Course\n",
            "2. Remove Course\n",
            "3. View Course list\n",
            "4. Exit\n",
            "-------------------\n",
            "Enter your choice: 6\n",
            "Please enter one of 1,2,3 or 4\n",
            "-------------------\n",
            "10th Semester\n",
            "-------------------\n",
            "1. Add Course\n",
            "2. Remove Course\n",
            "3. View Course list\n",
            "4. Exit\n",
            "-------------------\n",
            "Enter your choice: 4\n",
            "bye-bye\n"
          ],
          "name": "stdout"
        }
      ]
    }
  ]
}